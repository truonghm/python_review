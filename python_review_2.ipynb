{
 "metadata": {
  "language_info": {
   "codemirror_mode": {
    "name": "ipython",
    "version": 3
   },
   "file_extension": ".py",
   "mimetype": "text/x-python",
   "name": "python",
   "nbconvert_exporter": "python",
   "pygments_lexer": "ipython3",
   "version": 3
  },
  "orig_nbformat": 4
 },
 "nbformat": 4,
 "nbformat_minor": 2,
 "cells": [
  {
   "source": [
    "# Ôn tập lại Python 1 tí cho vui - Phần 2: Functional programming trong Python\n",
    "\n"
   ],
   "cell_type": "markdown",
   "metadata": {}
  },
  {
   "source": [
    "https://stackabuse.com/functional-programming-in-python\n",
    "https://www.reddit.com/r/Python/comments/a8swkw/understanding_python_lambda_functions_and_why/\n",
    "https://www.reddit.com/r/learnpython/comments/3lyv56/when_do_you_use_a_lambda_function/\n",
    "https://www.reddit.com/r/learnpython/comments/5wjavx/what_is_the_point_of_lambda_in_python/\n",
    "https://realpython.com/python-lambda/\n",
    "https://en.wikipedia.org/wiki/Anonymous_function"
   ],
   "cell_type": "markdown",
   "metadata": {}
  }
 ]
}