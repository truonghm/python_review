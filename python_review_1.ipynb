{
 "cells": [
  {
   "cell_type": "markdown",
   "metadata": {
    "ExecuteTime": {
     "end_time": "2021-05-11T03:27:56.926849Z",
     "start_time": "2021-05-11T03:27:55.727925Z"
    }
   },
   "source": [
    "# Ôn tập lại Python 1 tí cho vui\n",
    "\n",
    "1. **mutable/immutable**\n",
    "2. lambda function\n",
    "3. OOP in Python\n",
    "4. iterable\n",
    "5. list,dictionary, tuple & set\n",
    "6. handling path\n",
    "7. break/continue/pass\n",
    "8. generator\n",
    "9. handling exception\n",
    "10. handling path\n",
    "11. input/output\n",
    "12. others (bitwise operator, numpy, pandas, matplotlib)"
   ]
  },
  {
   "cell_type": "markdown",
   "metadata": {
    "ExecuteTime": {
     "end_time": "2021-06-06T14:00:02.622411Z",
     "start_time": "2021-06-06T14:00:02.619165Z"
    }
   },
   "source": [
    "## mutable/immutable"
   ]
  },
  {
   "cell_type": "markdown",
   "metadata": {},
   "source": [
    "Có 2 loại object trong Python: mutable (có thể thay đổi) và immutable (không thể thay đổi).\n",
    "\n",
    "- Các kiểu dữ liệu nằm ở nhóm **immutable**: int, float, bool, str, tuple, unicode\n",
    "- Các kiểu dữ liệu nằm ở nhóm **mutable**: list, set, dict\n",
    "\n",
    "Để hiểu rõ mutable và immutable là gì, ta xét ví dụ sau:"
   ]
  },
  {
   "cell_type": "code",
   "execution_count": 1,
   "metadata": {
    "ExecuteTime": {
     "end_time": "2021-06-11T08:08:00.399394Z",
     "start_time": "2021-06-11T08:08:00.391415Z"
    }
   },
   "outputs": [
    {
     "name": "stdout",
     "output_type": "stream",
     "text": [
      "[1, 2, 3, 4]\n"
     ]
    }
   ],
   "source": [
    "# vi du 1\n",
    "x = [1,2,3]\n",
    "y = x\n",
    "y.append(4)\n",
    "print(x)"
   ]
  },
  {
   "cell_type": "code",
   "execution_count": 2,
   "metadata": {
    "ExecuteTime": {
     "end_time": "2021-06-11T08:08:00.469205Z",
     "start_time": "2021-06-11T08:08:00.402385Z"
    }
   },
   "outputs": [
    {
     "name": "stdout",
     "output_type": "stream",
     "text": [
      "(1, 2, 3)\n"
     ]
    }
   ],
   "source": [
    "# vi du 2\n",
    "x = (1,2,3)\n",
    "y=x\n",
    "y = (1,2,3,4)\n",
    "print(x)"
   ]
  },
  {
   "cell_type": "markdown",
   "metadata": {},
   "source": [
    "- Ở ví dụ 1, biến `x` được tạo ra và chứa 1 list là [1,2,3]. Biến `y` sau đó được tạo ra và trỏ về biến `x`. Khi thay đổi `y`, `x` cũng thay đổi theo.\n",
    "- Ở ví dụ 1, biến `x` được tạo ra và chứa 1 tuple là (1,2,3). Biến `y` sau đó được tạo ra và trỏ về biến `x`. Khi thay đổi `y`, `x` không thay đổi.\n",
    "\n",
    "### Name và Object\n",
    "\n",
    "Ví dụ trên xảy ra là vì trong Python, một biến (variable) thực chất là tên (name) của một object. Nói cách khác, ta có thể nói việc đặt tên biến trong Python là việc bind (nối) một cái tên với một vật thể/đối tượng nào đó, gọi là một object.\n",
    "\n",
    "Như vậy, khi sử dụng một biến, tức là ta đang gọi name của object. Nếu name chưa được gắn với object nào, ta gặp exception `NameError`."
   ]
  },
  {
   "cell_type": "code",
   "execution_count": 3,
   "metadata": {
    "ExecuteTime": {
     "end_time": "2021-06-11T08:08:00.544242Z",
     "start_time": "2021-06-11T08:08:00.471200Z"
    }
   },
   "outputs": [
    {
     "name": "stdout",
     "output_type": "stream",
     "text": [
      "17\n"
     ]
    }
   ],
   "source": [
    "# name da duoc gan voi object\n",
    "a = 17\n",
    "print(a)"
   ]
  },
  {
   "cell_type": "code",
   "execution_count": 4,
   "metadata": {
    "ExecuteTime": {
     "end_time": "2021-06-11T08:08:00.799160Z",
     "start_time": "2021-06-11T08:08:00.545238Z"
    }
   },
   "outputs": [
    {
     "ename": "NameError",
     "evalue": "name 'money' is not defined",
     "output_type": "error",
     "traceback": [
      "\u001b[1;31m---------------------------------------------------------------------------\u001b[0m",
      "\u001b[1;31mNameError\u001b[0m                                 Traceback (most recent call last)",
      "\u001b[1;32m<ipython-input-4-c6760d6ed8bb>\u001b[0m in \u001b[0;36m<module>\u001b[1;34m\u001b[0m\n\u001b[0;32m      1\u001b[0m \u001b[1;31m# name chua gan voi object\u001b[0m\u001b[1;33m\u001b[0m\u001b[1;33m\u001b[0m\u001b[1;33m\u001b[0m\u001b[0m\n\u001b[1;32m----> 2\u001b[1;33m \u001b[0mprint\u001b[0m\u001b[1;33m(\u001b[0m\u001b[0mmoney\u001b[0m\u001b[1;33m)\u001b[0m\u001b[1;33m\u001b[0m\u001b[1;33m\u001b[0m\u001b[0m\n\u001b[0m",
      "\u001b[1;31mNameError\u001b[0m: name 'money' is not defined"
     ]
    }
   ],
   "source": [
    "# name chua gan voi object\n",
    "print(money)"
   ]
  },
  {
   "cell_type": "markdown",
   "metadata": {
    "ExecuteTime": {
     "end_time": "2021-06-11T04:06:06.188529Z",
     "start_time": "2021-06-11T04:06:06.184538Z"
    }
   },
   "source": [
    "### ID và TYPE\n",
    "\n",
    "Python có hàm `id()` được sử dụng để xác định danh tính của một object. Theo documentation của Python, ta có:"
   ]
  },
  {
   "cell_type": "code",
   "execution_count": 5,
   "metadata": {
    "ExecuteTime": {
     "end_time": "2021-06-11T08:08:13.427579Z",
     "start_time": "2021-06-11T08:08:13.422594Z"
    }
   },
   "outputs": [
    {
     "name": "stdout",
     "output_type": "stream",
     "text": [
      "Help on built-in function id in module builtins:\n",
      "\n",
      "id(obj, /)\n",
      "    Return the identity of an object.\n",
      "    \n",
      "    This is guaranteed to be unique among simultaneously existing objects.\n",
      "    (CPython uses the object's memory address.)\n",
      "\n"
     ]
    }
   ],
   "source": [
    "help(id)"
   ]
  },
  {
   "cell_type": "markdown",
   "metadata": {},
   "source": [
    "`id` được trả về là một số nguyên duy nhất (unique) - đây chính là địa chỉ của object đó trong bộ nhớ máy tính.\n",
    "\n",
    "Ta xét 2 ví dụ dưới:"
   ]
  },
  {
   "cell_type": "code",
   "execution_count": 6,
   "metadata": {
    "ExecuteTime": {
     "end_time": "2021-06-11T08:08:13.492407Z",
     "start_time": "2021-06-11T08:08:13.429574Z"
    }
   },
   "outputs": [
    {
     "name": "stdout",
     "output_type": "stream",
     "text": [
      "2086804108080\n",
      "2086804108912\n",
      "Hai bien chung tro ve 1 object?:  False\n",
      "Hai bien co gia tri bang nhau?:  True\n"
     ]
    }
   ],
   "source": [
    "# Vi du 1\n",
    "var1 = 'mot con vit'\n",
    "var2 = 'mot con vit'\n",
    "print(id(var1))\n",
    "print(id(var2))\n",
    "print('Hai bien chung tro ve 1 object?: ', var1 is var2)\n",
    "print('Hai bien co gia tri bang nhau?: ', var1 == var2)"
   ]
  },
  {
   "cell_type": "code",
   "execution_count": 7,
   "metadata": {
    "ExecuteTime": {
     "end_time": "2021-06-11T08:08:13.566865Z",
     "start_time": "2021-06-11T08:08:13.495398Z"
    }
   },
   "outputs": [
    {
     "name": "stdout",
     "output_type": "stream",
     "text": [
      "2086804226288\n",
      "2086804226288\n",
      "Hai bien chung tro ve 1 object?:  True\n",
      "Hai bien co gia tri bang nhau?:  True\n"
     ]
    }
   ],
   "source": [
    "# Vi du 1\n",
    "var1 = 'mot con vit'\n",
    "var2 = var1\n",
    "print(id(var1))\n",
    "print(id(var2))\n",
    "print('Hai bien chung tro ve 1 object?: ', var1 is var2)\n",
    "print('Hai bien co gia tri bang nhau?: ', var1 == var2)"
   ]
  },
  {
   "cell_type": "markdown",
   "metadata": {},
   "source": [
    "Lưu ý rằng ở 2 ví dụ trên, ta sử dụng identity operator `is` và comarison operator `==` cho 2 mục đích khác nhau. Qua 2 ví dụ, ta thấy:\n",
    "\n",
    "1. Ở ví dụ 1, string `'mot con vit'` là một object được gán riêng rẽ cho 2 variable/name là `var1` và `var2`. \n",
    "\n",
    "    - Trong trường hợp này, Python tạo ra một object `'mot con vit'` và \"xếp\" nó vào một địa chỉ trong bộ nhớ. \n",
    "\n",
    "    - Sau đó, Python tiếp tục tạo ra biến `var2` với cùng giá trị `'mot con vit'`. Lúc này, Python sẽ KHÔNG trỏ biến `var2` về cùng object `'mot con vit'` đã tạo ra cho `var1` mà lại tạo ra 1 object mới, cho dù 2 object này \"giống nhau\".\n",
    "    \n",
    "    - Ta có thể kiểm tra xem `var1` và `var2` có cùng trò về 1 object không bằng cách kiểm tra `id` của 2 biến -> khác nhau.\n",
    "\n",
    "\n",
    "2. Ở ví dụ 2, string `'mot con vit'` là một object được gán cho `var1`, sau đó ta cho `var2` trỏ về `var1`, tức là cùng trò về 1 object.\n",
    "\n",
    "    - Tương tự như trên, Python tạo ra một object `'mot con vit'`, \"xếp\" nó vào một địa chỉ trong bộ nhớ, đồng thời tạo ra biến `var1` trò về object vừa tạo.\n",
    "\n",
    "    - Sau đó, Python tiếp tục tạo ra biến `var2`, tuy nhiên gán cho `var2` bằng chính `var1` . Lúc này, Python trỏ biến `var2` về cùng object `'mot con vit'` đã tạo ra cho `var1`, hay nói cách khác, object `'mot con vit'` hiện có 2 name là `var1` và `var2`.\n",
    "    \n",
    "    - Khi kiểm tra id của `var1` và `var2` -> bằng nhau."
   ]
  },
  {
   "cell_type": "markdown",
   "metadata": {},
   "source": [
    "### Immutable object\n",
    "\n",
    "Như đã đề cập ở trên, các kiểu dữ liệu (type) là immutable trong Python bao gồm: int, float, bool, str, tuple, unicode.\n",
    "\n",
    "*im·mu·ta·ble (/i(m)ˈmyo͞odəb(ə)l/, adjective):  unchanging over time or unable to be changed.*  \n",
    "*Verb: mutate*\n",
    "\n",
    "Ví dụ, với kiểu `int`, ta có ví dụ:"
   ]
  },
  {
   "cell_type": "code",
   "execution_count": 8,
   "metadata": {
    "ExecuteTime": {
     "end_time": "2021-06-11T08:08:13.635685Z",
     "start_time": "2021-06-11T08:08:13.568860Z"
    }
   },
   "outputs": [
    {
     "name": "stdout",
     "output_type": "stream",
     "text": [
      "<class 'int'> 2086803346352 2021\n",
      "<class 'int'> 2086803347344 2020\n"
     ]
    }
   ],
   "source": [
    "x = 2021\n",
    "print(type(x), id(x), x)\n",
    "\n",
    "x = 2020\n",
    "print(type(x), id(x), x)"
   ]
  },
  {
   "cell_type": "markdown",
   "metadata": {},
   "source": [
    "Nhìn qua ví dụ này, có thể thấy dường như `x` đã thay đổi, và `type` của `x` là `int`. Nếu vậy thì tại sao lại nói object kiểu `int` là immutable?\n",
    "\n",
    "Tuy nhiên, như đã nói, `x` đơn thuần chỉ là một cái tên (name), và tồn tại riêng biệt với object `2021` và `2020` là 2 object khác nhau.\n",
    "\n",
    "Khi thực hiện gán `x` thành `2020`, ta không thay đổi (mutate) bất kì object nào hết mà chỉ đơn thuần là **chuyển tên** `x` từ `2021` sang cho `2020`. Ở 2 câu `print` phía trên, có thể thấy `id` cũng bị thay đổi theo, có nghĩa là `x` đã đổi từ object này sang object khác.\n",
    "\n",
    "Tương tự với các immutable object type khác như tuple, ta có:"
   ]
  },
  {
   "cell_type": "code",
   "execution_count": 9,
   "metadata": {
    "ExecuteTime": {
     "end_time": "2021-06-11T08:08:13.718454Z",
     "start_time": "2021-06-11T08:08:13.637682Z"
    }
   },
   "outputs": [
    {
     "name": "stdout",
     "output_type": "stream",
     "text": [
      "2086803422464\n",
      "2086803345088\n"
     ]
    }
   ],
   "source": [
    "tup1 = (4,5,6)\n",
    "print(id(tup1))\n",
    "\n",
    "tup1 = (7,8,9)\n",
    "print(id(tup1))"
   ]
  },
  {
   "cell_type": "markdown",
   "metadata": {},
   "source": [
    "Do tuple là kiểu dữ liệu immutable nên không thể thay đổi các element bên trong, cũng không đi kèm các method dùng để thay đổi element bên trong giống như list. Nếu cố thay đổi, Python sẽ trả về `exception` là TypeError với thông báo: *'tuple' object does not support item assignment*, hiểu là *object thuộc kiểu 'tuple' không hỗ trợ gán giá trị cho thành phần.*"
   ]
  },
  {
   "cell_type": "code",
   "execution_count": 10,
   "metadata": {
    "ExecuteTime": {
     "end_time": "2021-06-11T08:08:13.795467Z",
     "start_time": "2021-06-11T08:08:13.720420Z"
    }
   },
   "outputs": [
    {
     "name": "stdout",
     "output_type": "stream",
     "text": [
      "7\n"
     ]
    },
    {
     "ename": "TypeError",
     "evalue": "'tuple' object does not support item assignment",
     "output_type": "error",
     "traceback": [
      "\u001b[1;31m---------------------------------------------------------------------------\u001b[0m",
      "\u001b[1;31mTypeError\u001b[0m                                 Traceback (most recent call last)",
      "\u001b[1;32m<ipython-input-10-ab6f906bfb92>\u001b[0m in \u001b[0;36m<module>\u001b[1;34m\u001b[0m\n\u001b[0;32m      1\u001b[0m \u001b[0mprint\u001b[0m\u001b[1;33m(\u001b[0m\u001b[0mtup1\u001b[0m\u001b[1;33m[\u001b[0m\u001b[1;36m0\u001b[0m\u001b[1;33m]\u001b[0m\u001b[1;33m)\u001b[0m\u001b[1;33m\u001b[0m\u001b[1;33m\u001b[0m\u001b[0m\n\u001b[1;32m----> 2\u001b[1;33m \u001b[0mtup1\u001b[0m\u001b[1;33m[\u001b[0m\u001b[1;36m0\u001b[0m\u001b[1;33m]\u001b[0m \u001b[1;33m=\u001b[0m \u001b[1;34m'gia tri moi'\u001b[0m\u001b[1;33m\u001b[0m\u001b[1;33m\u001b[0m\u001b[0m\n\u001b[0m",
      "\u001b[1;31mTypeError\u001b[0m: 'tuple' object does not support item assignment"
     ]
    }
   ],
   "source": [
    "print(tup1[0])\n",
    "tup1[0] = 'gia tri moi'"
   ]
  },
  {
   "cell_type": "markdown",
   "metadata": {},
   "source": [
    "### Mutable object\n",
    "\n",
    "Các kiểu dữ liệu là mutable trong Python bao gồm: list, set, dictionary.\n",
    "\n",
    "*mu·ta·ble (/ˈmyo͞odəb(ə)l/, adjective):  liable to change.*\n",
    "\n",
    "Ví dụ, đối với `list`, chúng ta biết rằng dữ liệu kiểu `list` có thể thay đổi được element bên trong."
   ]
  },
  {
   "cell_type": "code",
   "execution_count": 11,
   "metadata": {
    "ExecuteTime": {
     "end_time": "2021-06-11T08:08:21.441127Z",
     "start_time": "2021-06-11T08:08:21.436141Z"
    }
   },
   "outputs": [
    {
     "name": "stdout",
     "output_type": "stream",
     "text": [
      "2086803419776 [7, 8, 9]\n",
      "2086803419776 ['hai ban tay', 8, 9]\n"
     ]
    }
   ],
   "source": [
    "my_list = [7,8,9]\n",
    "print(id(my_list), my_list)\n",
    "my_list[0] = 'hai ban tay'\n",
    "print(id(my_list), my_list)"
   ]
  },
  {
   "cell_type": "markdown",
   "metadata": {},
   "source": [
    "Như vậy, `id` của `my_list` vẫn giữ nguyên, thể hiện rằng object này vẫn được gắn vào name `my_list` và element đầu tiên của object đã thay đổi.\n",
    "\n",
    "Đồng thời, ví dụ đầu tiên ở bài viết cũng thể hiện về tính mutable của list:"
   ]
  },
  {
   "cell_type": "code",
   "execution_count": 12,
   "metadata": {
    "ExecuteTime": {
     "end_time": "2021-06-11T08:08:21.525943Z",
     "start_time": "2021-06-11T08:08:21.443123Z"
    }
   },
   "outputs": [
    {
     "name": "stdout",
     "output_type": "stream",
     "text": [
      "True True\n",
      "True True\n",
      "[1, 2, 3, 4]\n",
      "[1, 2, 3, 4]\n"
     ]
    }
   ],
   "source": [
    "x = y = [1,2,3]\n",
    "print(x is y, id(x) == id(y))\n",
    "y.append(4)\n",
    "print(x is y, id(x) == id(y))\n",
    "print(x)\n",
    "print(y)"
   ]
  },
  {
   "cell_type": "markdown",
   "metadata": {},
   "source": [
    "### Một số lưu ý\n",
    "\n",
    "#### Lưu ý khi dùng dictionary\n",
    "\n",
    "Theo như [documentation](https://docs.python.org/3/tutorial/datastructures.html#dictionaries) của Python, ta có:\n",
    "\n",
    ">Unlike sequences, which are indexed by a range of numbers, dictionaries are indexed by keys, which can be any immutable type; strings and numbers can always be keys. Tuples can be used as keys if they contain only strings, numbers, or tuples; if a tuple contains any mutable object either directly or indirectly, it cannot be used as a key. You can’t use lists as keys, since lists can be modified in place using index assignments, slice assignments, or methods like append() and extend().\n",
    "\n",
    "Đoạn trên có nghĩa là: `key` của dictionary chỉ có thể là các kiểu dữ liệu immutable. Do dictionary index dữ liệu theo `key` chứ không theo dãy số, vì vậy Python phải đảm bảo rằng các `key` là duy nhất và không thay đổi để việc indexing hợp lý và dễ dàng hơn.\n",
    "\n",
    "#### Lưu ý khi dùng list và tuple\n",
    "\n",
    "Ở ví dụ dưới đây, ta tạo ra 1 list và 1 tuple như sau:"
   ]
  },
  {
   "cell_type": "code",
   "execution_count": 13,
   "metadata": {
    "ExecuteTime": {
     "end_time": "2021-06-11T08:08:21.609006Z",
     "start_time": "2021-06-11T08:08:21.527940Z"
    }
   },
   "outputs": [
    {
     "name": "stdout",
     "output_type": "stream",
     "text": [
      "[(1, 1), 2, 3] (1, 1)\n",
      "([1, 1], 2, 3) [1, 1]\n"
     ]
    }
   ],
   "source": [
    "my_list = [(1, 1), 2, 3]\n",
    "my_tuple = ([1, 1], 2, 3)\n",
    "print(my_list, my_list[0])\n",
    "print(my_tuple, my_tuple[0])"
   ]
  },
  {
   "cell_type": "markdown",
   "metadata": {},
   "source": [
    "Tiếp theo, chúng ta thử thay đổi element đầu tiên trong `my_list`:"
   ]
  },
  {
   "cell_type": "code",
   "execution_count": 14,
   "metadata": {
    "ExecuteTime": {
     "end_time": "2021-06-11T08:08:21.695666Z",
     "start_time": "2021-06-11T08:08:21.610973Z"
    }
   },
   "outputs": [
    {
     "ename": "TypeError",
     "evalue": "'tuple' object does not support item assignment",
     "output_type": "error",
     "traceback": [
      "\u001b[1;31m---------------------------------------------------------------------------\u001b[0m",
      "\u001b[1;31mTypeError\u001b[0m                                 Traceback (most recent call last)",
      "\u001b[1;32m<ipython-input-14-db833de635ec>\u001b[0m in \u001b[0;36m<module>\u001b[1;34m\u001b[0m\n\u001b[1;32m----> 1\u001b[1;33m \u001b[0mmy_list\u001b[0m\u001b[1;33m[\u001b[0m\u001b[1;36m0\u001b[0m\u001b[1;33m]\u001b[0m\u001b[1;33m[\u001b[0m\u001b[1;36m0\u001b[0m\u001b[1;33m]\u001b[0m \u001b[1;33m=\u001b[0m \u001b[1;34m'gia tri moi'\u001b[0m\u001b[1;33m\u001b[0m\u001b[1;33m\u001b[0m\u001b[0m\n\u001b[0m",
      "\u001b[1;31mTypeError\u001b[0m: 'tuple' object does not support item assignment"
     ]
    }
   ],
   "source": [
    "my_list[0][0] = 'gia tri moi'"
   ]
  },
  {
   "cell_type": "markdown",
   "metadata": {},
   "source": [
    "Do element đầu tiên của `my_list` thuộc kiểu `tuple` nên Python trả về `TypeError`.\n",
    "\n",
    "Ngược lại, ta hoàn toàn có thể thay đổi element đầu của `my_tuple`, do element này lại thuộc kiểu `list`:"
   ]
  },
  {
   "cell_type": "code",
   "execution_count": 15,
   "metadata": {
    "ExecuteTime": {
     "end_time": "2021-06-11T08:08:31.973934Z",
     "start_time": "2021-06-11T08:08:31.969945Z"
    }
   },
   "outputs": [],
   "source": [
    "my_tuple[0][0] = 'gia tri moi'"
   ]
  },
  {
   "cell_type": "markdown",
   "metadata": {},
   "source": [
    "Tất cả mọi thứ đến đoạn này thật ra đều dễ hiểu, tuy nhiên điều đặc biệt là những gì Python làm ở phía sau, cụ thể là việc tạo ra/thay đổi object trên bộ nhớ.\n",
    "\n",
    "Ta sẽ kiểm tra `id` của các object để xem đã có gì diễn ra:"
   ]
  },
  {
   "cell_type": "code",
   "execution_count": 16,
   "metadata": {
    "ExecuteTime": {
     "end_time": "2021-06-11T08:08:32.082857Z",
     "start_time": "2021-06-11T08:08:31.975929Z"
    }
   },
   "outputs": [
    {
     "name": "stdout",
     "output_type": "stream",
     "text": [
      "2086803810752 2086804234752\n",
      "2086803810752 2086804234752\n"
     ]
    }
   ],
   "source": [
    "my_tuple = ([1, 1], 2, 3)\n",
    "print(id(my_tuple), id(my_tuple[0]))\n",
    "\n",
    "# thay doi gia tri dau tien cua my_tuple\n",
    "\n",
    "my_tuple[0][0] = 'gia tri moi'\n",
    "print(id(my_tuple), id(my_tuple[0]))"
   ]
  },
  {
   "cell_type": "markdown",
   "metadata": {},
   "source": [
    "Có thể thấy, id của cả `my_tuple` và `my_tuple[0]`, cho dù ta đã thay đổi `my_tuple[0][0]`. Có thể giải thích điều này như sau:\n",
    "\n",
    "- `my_tuple[0]` giữ nguyên `id` do đây là một `list`, và là mutable.\n",
    "- `my_tuple` giữ nguyên `id` do object gắn với `my_tuple` thật ra không thay đổi về nội dung bên trong: Nó vẫn bao gồm các element như vậy, cụ thể là có element đầu tiên vẫn giữ nguyên `id` gốc dù value bên trong thay đổi."
   ]
  },
  {
   "cell_type": "code",
   "execution_count": 17,
   "metadata": {
    "ExecuteTime": {
     "end_time": "2021-06-11T08:08:32.158852Z",
     "start_time": "2021-06-11T08:08:32.084851Z"
    }
   },
   "outputs": [
    {
     "name": "stdout",
     "output_type": "stream",
     "text": [
      "(['gia tri moi', 1], 2, 3)\n"
     ]
    }
   ],
   "source": [
    "print(my_tuple)"
   ]
  },
  {
   "cell_type": "markdown",
   "metadata": {},
   "source": [
    "### Pandas dataframe\n",
    "\n",
    "Xét ví dụ sau:"
   ]
  },
  {
   "cell_type": "code",
   "execution_count": 18,
   "metadata": {
    "ExecuteTime": {
     "end_time": "2021-06-11T08:08:32.580599Z",
     "start_time": "2021-06-11T08:08:32.160849Z"
    }
   },
   "outputs": [],
   "source": [
    "import pandas as pd"
   ]
  },
  {
   "cell_type": "code",
   "execution_count": 19,
   "metadata": {
    "ExecuteTime": {
     "end_time": "2021-06-11T08:08:32.596032Z",
     "start_time": "2021-06-11T08:08:32.582598Z"
    }
   },
   "outputs": [
    {
     "data": {
      "text/html": [
       "<div>\n",
       "<style scoped>\n",
       "    .dataframe tbody tr th:only-of-type {\n",
       "        vertical-align: middle;\n",
       "    }\n",
       "\n",
       "    .dataframe tbody tr th {\n",
       "        vertical-align: top;\n",
       "    }\n",
       "\n",
       "    .dataframe thead th {\n",
       "        text-align: right;\n",
       "    }\n",
       "</style>\n",
       "<table border=\"1\" class=\"dataframe\">\n",
       "  <thead>\n",
       "    <tr style=\"text-align: right;\">\n",
       "      <th></th>\n",
       "      <th>col1</th>\n",
       "      <th>col2</th>\n",
       "    </tr>\n",
       "  </thead>\n",
       "  <tbody>\n",
       "    <tr>\n",
       "      <th>0</th>\n",
       "      <td>1</td>\n",
       "      <td>4</td>\n",
       "    </tr>\n",
       "    <tr>\n",
       "      <th>1</th>\n",
       "      <td>2</td>\n",
       "      <td>5</td>\n",
       "    </tr>\n",
       "    <tr>\n",
       "      <th>2</th>\n",
       "      <td>3</td>\n",
       "      <td>6</td>\n",
       "    </tr>\n",
       "  </tbody>\n",
       "</table>\n",
       "</div>"
      ],
      "text/plain": [
       "   col1  col2\n",
       "0     1     4\n",
       "1     2     5\n",
       "2     3     6"
      ]
     },
     "execution_count": 19,
     "metadata": {},
     "output_type": "execute_result"
    }
   ],
   "source": [
    "df1 = pd.DataFrame({'col1':[1,2,3], 'col2':[4,5,6]})\n",
    "df1"
   ]
  },
  {
   "cell_type": "code",
   "execution_count": 20,
   "metadata": {
    "ExecuteTime": {
     "end_time": "2021-06-11T08:08:32.670482Z",
     "start_time": "2021-06-11T08:08:32.598027Z"
    }
   },
   "outputs": [
    {
     "data": {
      "text/html": [
       "<div>\n",
       "<style scoped>\n",
       "    .dataframe tbody tr th:only-of-type {\n",
       "        vertical-align: middle;\n",
       "    }\n",
       "\n",
       "    .dataframe tbody tr th {\n",
       "        vertical-align: top;\n",
       "    }\n",
       "\n",
       "    .dataframe thead th {\n",
       "        text-align: right;\n",
       "    }\n",
       "</style>\n",
       "<table border=\"1\" class=\"dataframe\">\n",
       "  <thead>\n",
       "    <tr style=\"text-align: right;\">\n",
       "      <th></th>\n",
       "      <th>col1</th>\n",
       "      <th>col2</th>\n",
       "    </tr>\n",
       "  </thead>\n",
       "  <tbody>\n",
       "    <tr>\n",
       "      <th>0</th>\n",
       "      <td>1</td>\n",
       "      <td>4</td>\n",
       "    </tr>\n",
       "    <tr>\n",
       "      <th>1</th>\n",
       "      <td>2</td>\n",
       "      <td>5</td>\n",
       "    </tr>\n",
       "    <tr>\n",
       "      <th>2</th>\n",
       "      <td>3</td>\n",
       "      <td>6</td>\n",
       "    </tr>\n",
       "  </tbody>\n",
       "</table>\n",
       "</div>"
      ],
      "text/plain": [
       "   col1  col2\n",
       "0     1     4\n",
       "1     2     5\n",
       "2     3     6"
      ]
     },
     "execution_count": 20,
     "metadata": {},
     "output_type": "execute_result"
    }
   ],
   "source": [
    "df2 = pd.DataFrame(df1)\n",
    "df2"
   ]
  },
  {
   "cell_type": "markdown",
   "metadata": {},
   "source": [
    "Theo như [documentation của pandas](https://pandas.pydata.org/docs/reference/api/pandas.DataFrame.html?highlight=dataframe#pandas.DataFrame), `pandas.DataFrame` có một parament là `copy` nhận giá trị mặc định là `False`, với ý nghĩa là:\n",
    "\n",
    "> copy : boolean, default False  \n",
    "    Copy data from inputs. Only affects DataFrame / 2d ndarray input\n",
    "    \n",
    "Như vậy khi `copy=False`, dữ liệu giữa `df1` và `df2` sẽ được chia sẻ với nhau, có nghĩa là khi thay đổi dữ liệu ở bản copy là `df2`, \"bản gốc\" `df1` cũng sẽ bị thay đổi theo:"
   ]
  },
  {
   "cell_type": "code",
   "execution_count": 21,
   "metadata": {
    "ExecuteTime": {
     "end_time": "2021-06-11T08:08:32.743419Z",
     "start_time": "2021-06-11T08:08:32.673446Z"
    }
   },
   "outputs": [
    {
     "data": {
      "text/html": [
       "<div>\n",
       "<style scoped>\n",
       "    .dataframe tbody tr th:only-of-type {\n",
       "        vertical-align: middle;\n",
       "    }\n",
       "\n",
       "    .dataframe tbody tr th {\n",
       "        vertical-align: top;\n",
       "    }\n",
       "\n",
       "    .dataframe thead th {\n",
       "        text-align: right;\n",
       "    }\n",
       "</style>\n",
       "<table border=\"1\" class=\"dataframe\">\n",
       "  <thead>\n",
       "    <tr style=\"text-align: right;\">\n",
       "      <th></th>\n",
       "      <th>col1</th>\n",
       "      <th>col2</th>\n",
       "    </tr>\n",
       "  </thead>\n",
       "  <tbody>\n",
       "    <tr>\n",
       "      <th>0</th>\n",
       "      <td>5</td>\n",
       "      <td>4</td>\n",
       "    </tr>\n",
       "    <tr>\n",
       "      <th>1</th>\n",
       "      <td>2</td>\n",
       "      <td>5</td>\n",
       "    </tr>\n",
       "    <tr>\n",
       "      <th>2</th>\n",
       "      <td>3</td>\n",
       "      <td>6</td>\n",
       "    </tr>\n",
       "  </tbody>\n",
       "</table>\n",
       "</div>"
      ],
      "text/plain": [
       "   col1  col2\n",
       "0     5     4\n",
       "1     2     5\n",
       "2     3     6"
      ]
     },
     "execution_count": 21,
     "metadata": {},
     "output_type": "execute_result"
    }
   ],
   "source": [
    "df2.iloc[0,0]=5\n",
    "df2"
   ]
  },
  {
   "cell_type": "code",
   "execution_count": 22,
   "metadata": {
    "ExecuteTime": {
     "end_time": "2021-06-11T08:08:32.820269Z",
     "start_time": "2021-06-11T08:08:32.746383Z"
    }
   },
   "outputs": [
    {
     "data": {
      "text/html": [
       "<div>\n",
       "<style scoped>\n",
       "    .dataframe tbody tr th:only-of-type {\n",
       "        vertical-align: middle;\n",
       "    }\n",
       "\n",
       "    .dataframe tbody tr th {\n",
       "        vertical-align: top;\n",
       "    }\n",
       "\n",
       "    .dataframe thead th {\n",
       "        text-align: right;\n",
       "    }\n",
       "</style>\n",
       "<table border=\"1\" class=\"dataframe\">\n",
       "  <thead>\n",
       "    <tr style=\"text-align: right;\">\n",
       "      <th></th>\n",
       "      <th>col1</th>\n",
       "      <th>col2</th>\n",
       "    </tr>\n",
       "  </thead>\n",
       "  <tbody>\n",
       "    <tr>\n",
       "      <th>0</th>\n",
       "      <td>5</td>\n",
       "      <td>4</td>\n",
       "    </tr>\n",
       "    <tr>\n",
       "      <th>1</th>\n",
       "      <td>2</td>\n",
       "      <td>5</td>\n",
       "    </tr>\n",
       "    <tr>\n",
       "      <th>2</th>\n",
       "      <td>3</td>\n",
       "      <td>6</td>\n",
       "    </tr>\n",
       "  </tbody>\n",
       "</table>\n",
       "</div>"
      ],
      "text/plain": [
       "   col1  col2\n",
       "0     5     4\n",
       "1     2     5\n",
       "2     3     6"
      ]
     },
     "execution_count": 22,
     "metadata": {},
     "output_type": "execute_result"
    }
   ],
   "source": [
    "df1"
   ]
  },
  {
   "cell_type": "markdown",
   "metadata": {},
   "source": [
    "Để tránh tình trạng này, ta đổi `copy` thành `False`, hoặc sử dụng method `copy` để tạo 1 deep copy:"
   ]
  },
  {
   "cell_type": "code",
   "execution_count": 23,
   "metadata": {
    "ExecuteTime": {
     "end_time": "2021-06-11T08:08:32.907430Z",
     "start_time": "2021-06-11T08:08:32.822238Z"
    }
   },
   "outputs": [],
   "source": [
    "# vi du lay tu documentation\n",
    "\n",
    "s = pd.Series([1, 2], index=[\"a\", \"b\"])\n",
    "s_deep_copy = s.copy() #mac dinh se tao ra deep copy\n",
    "s_shallow_copy = s.copy(deep=False)"
   ]
  },
  {
   "cell_type": "markdown",
   "metadata": {},
   "source": [
    "Chúng ta có thể tìm hiểu thêm về shallow và deep copy tại [documentation](https://pandas.pydata.org/pandas-docs/stable/reference/api/pandas.DataFrame.copy.html)."
   ]
  },
  {
   "cell_type": "markdown",
   "metadata": {},
   "source": [
    "## Kết luận\n",
    "\n",
    "Ở bài này, ta đã ôn lại về tính chất mutable và immutable của object trong Python, và tìm hiểu một số tình huống cần lưu ý khi làm việc với list, dictionary, tuple và dataframe.\n",
    "\n",
    "Việc hiểu rõ tính mutable và immutable là rất quan trọng, và sẽ giúp chúng ta tạo ra các bản copy của biến hiểu quả hơn, tránh các tình huống thay đổi giá trị của biến không mong muốn,  cũng như hiểu được các loại Exception thường xảy ra, nhất là khi làm việc với các kiểu dữ liệu collection (tuple, list, dictionary, set)."
   ]
  }
 ],
 "metadata": {
  "kernelspec": {
   "display_name": "Python 3",
   "language": "python",
   "name": "python3"
  },
  "language_info": {
   "codemirror_mode": {
    "name": "ipython",
    "version": 3
   },
   "file_extension": ".py",
   "mimetype": "text/x-python",
   "name": "python",
   "nbconvert_exporter": "python",
   "pygments_lexer": "ipython3",
   "version": "3.8.3"
  },
  "varInspector": {
   "cols": {
    "lenName": 16,
    "lenType": 16,
    "lenVar": 40
   },
   "kernels_config": {
    "python": {
     "delete_cmd_postfix": "",
     "delete_cmd_prefix": "del ",
     "library": "var_list.py",
     "varRefreshCmd": "print(var_dic_list())"
    },
    "r": {
     "delete_cmd_postfix": ") ",
     "delete_cmd_prefix": "rm(",
     "library": "var_list.r",
     "varRefreshCmd": "cat(var_dic_list()) "
    }
   },
   "types_to_exclude": [
    "module",
    "function",
    "builtin_function_or_method",
    "instance",
    "_Feature"
   ],
   "window_display": false
  }
 },
 "nbformat": 4,
 "nbformat_minor": 4
}
